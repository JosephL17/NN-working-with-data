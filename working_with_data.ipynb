{
 "cells": [
  {
   "cell_type": "code",
   "execution_count": 1,
   "metadata": {},
   "outputs": [
    {
     "name": "stdout",
     "output_type": "stream",
     "text": [
      "2.3.1+cpu\n"
     ]
    }
   ],
   "source": [
    "import torch\n",
    "from torch import nn as nn\n",
    "from torch import tensor\n",
    "print(torch.__version__)"
   ]
  },
  {
   "cell_type": "markdown",
   "metadata": {},
   "source": [
    "Binary Model for working with water quality data attributes\n",
    "Binary Classification\n",
    "3 Hidden Layers = Linear Layer\n",
    "Activation Layer = Sigmoid\n",
    "should account for 9 features"
   ]
  },
  {
   "cell_type": "code",
   "execution_count": 5,
   "metadata": {},
   "outputs": [
    {
     "name": "stdout",
     "output_type": "stream",
     "text": [
      "torch.Size([9])\n",
      "tensor([1.], grad_fn=<SigmoidBackward0>)\n"
     ]
    }
   ],
   "source": [
    "class BinaryModel(nn.Module):\n",
    "  def __init__(self):\n",
    "    super(BinaryModel, self).__init__()\n",
    "    self.linear1 = nn.Linear(9,7)\n",
    "    self.linear2 = nn.Linear(7, 4)\n",
    "    self.linear3 = nn.Linear(4,1)\n",
    "    self.activation = nn.Sigmoid()\n",
    "\n",
    "  def forward(self, x):\n",
    "    x = self.linear1(x)\n",
    "    x = self.linear2(x)\n",
    "    x = self.linear3(x)\n",
    "    x = self.activation(x)\n",
    "    return x\n",
    "  \n",
    "model = BinaryModel()\n",
    "  \n",
    "dummy_input_tensor = tensor([0,204.8904554713363,20791.318980747026,7.300211873184757,368.51644134980336,564.3086541722439,10.3797830780847,86.9909704615088,2.9631353806316407])\n",
    "print(dummy_input_tensor.size())\n",
    "\n",
    "prediction = model(dummy_input_tensor)\n",
    "print(prediction)"
   ]
  },
  {
   "cell_type": "code",
   "execution_count": 6,
   "metadata": {},
   "outputs": [
    {
     "data": {
      "text/plain": [
       "ph                 491\n",
       "Hardness             0\n",
       "Solids               0\n",
       "Chloramines          0\n",
       "Sulfate            781\n",
       "Conductivity         0\n",
       "Organic_carbon       0\n",
       "Trihalomethanes    162\n",
       "Turbidity            0\n",
       "Potability           0\n",
       "dtype: int64"
      ]
     },
     "execution_count": 6,
     "metadata": {},
     "output_type": "execute_result"
    }
   ],
   "source": [
    "import pandas as pd\n",
    "\n",
    "data = pd.read_csv('./water_potability.csv')\n",
    "data.isnull().sum()"
   ]
  },
  {
   "cell_type": "code",
   "execution_count": 12,
   "metadata": {},
   "outputs": [
    {
     "name": "stdout",
     "output_type": "stream",
     "text": [
      "ph                     7.080795\n",
      "Hardness             204.890455\n",
      "Solids             20791.318981\n",
      "Chloramines            7.300212\n",
      "Sulfate              368.516441\n",
      "Conductivity         564.308654\n",
      "Organic_carbon        10.379783\n",
      "Trihalomethanes       86.990970\n",
      "Turbidity              2.963135\n",
      "Potability             0.000000\n",
      "Name: 0, dtype: float64\n",
      "ph                     7.080795\n",
      "Hardness             204.890455\n",
      "Solids             20791.318981\n",
      "Chloramines            7.300212\n",
      "Sulfate              368.516441\n",
      "Conductivity         564.308654\n",
      "Organic_carbon        10.379783\n",
      "Trihalomethanes       86.990970\n",
      "Turbidity              2.963135\n",
      "Potability             0.000000\n",
      "Name: 0, dtype: float64\n"
     ]
    },
    {
     "data": {
      "text/plain": [
       "ph                 0\n",
       "Hardness           0\n",
       "Solids             0\n",
       "Chloramines        0\n",
       "Sulfate            0\n",
       "Conductivity       0\n",
       "Organic_carbon     0\n",
       "Trihalomethanes    0\n",
       "Turbidity          0\n",
       "Potability         0\n",
       "dtype: int64"
      ]
     },
     "execution_count": 12,
     "metadata": {},
     "output_type": "execute_result"
    }
   ],
   "source": [
    "print(data.iloc[0])\n",
    "data.fillna(data.mean(), inplace=True)\n",
    "print(data.iloc[0])\n",
    "data.isnull().sum()"
   ]
  },
  {
   "cell_type": "code",
   "execution_count": 13,
   "metadata": {},
   "outputs": [],
   "source": [
    "features = data.drop('Potability', axis=1)\n",
    "labels = data['Potability']"
   ]
  },
  {
   "cell_type": "code",
   "execution_count": 14,
   "metadata": {},
   "outputs": [
    {
     "name": "stdout",
     "output_type": "stream",
     "text": [
      "ph                     7.080795\n",
      "Hardness             204.890455\n",
      "Solids             20791.318981\n",
      "Chloramines            7.300212\n",
      "Sulfate              368.516441\n",
      "Conductivity         564.308654\n",
      "Organic_carbon        10.379783\n",
      "Trihalomethanes       86.990970\n",
      "Turbidity              2.963135\n",
      "Name: 0, dtype: float64\n",
      "[-6.04313345e-16  2.59194711e-01 -1.39470871e-01  1.12414846e-01\n",
      "  9.61357416e-01  1.70895423e+00 -1.18065057e+00  1.30614943e+00\n",
      " -1.28629758e+00]\n"
     ]
    }
   ],
   "source": [
    "from sklearn.preprocessing import StandardScaler\n",
    "\n",
    "scaler = StandardScaler()\n",
    "scaled_features = scaler.fit_transform(features)\n",
    "print(features.iloc[0])\n",
    "print(scaled_features[0])"
   ]
  },
  {
   "cell_type": "markdown",
   "metadata": {},
   "source": [
    "\n",
    "Breaking Up Batches\n",
    "2 Batches\n",
    "80% is for Training\n",
    "20% is for Testing"
   ]
  },
  {
   "cell_type": "code",
   "execution_count": 15,
   "metadata": {},
   "outputs": [
    {
     "name": "stdout",
     "output_type": "stream",
     "text": [
      "tensor([0.3775], grad_fn=<SigmoidBackward0>)\n"
     ]
    }
   ],
   "source": [
    "from sklearn.model_selection import train_test_split\n",
    "\n",
    "training_1, testing_1, training_2, testing_2 = train_test_split(scaled_features, labels, test_size=0.2, random_state=42)\n",
    "\n",
    "training1_tensor = tensor(training_1, dtype=torch.float32)\n",
    "\n",
    "prediction = model(training1_tensor[0])\n",
    "print(prediction)"
   ]
  }
 ],
 "metadata": {
  "kernelspec": {
   "display_name": "myenv",
   "language": "python",
   "name": "python3"
  },
  "language_info": {
   "codemirror_mode": {
    "name": "ipython",
    "version": 3
   },
   "file_extension": ".py",
   "mimetype": "text/x-python",
   "name": "python",
   "nbconvert_exporter": "python",
   "pygments_lexer": "ipython3",
   "version": "3.10.12"
  }
 },
 "nbformat": 4,
 "nbformat_minor": 2
}
